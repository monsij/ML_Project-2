{
 "cells": [
  {
   "cell_type": "markdown",
   "metadata": {},
   "source": [
    "#                                 Project : Test a perceptual phenomenon"
   ]
  },
  {
   "cell_type": "markdown",
   "metadata": {},
   "source": [
    "## Statistics: The Science of Decisions Project Instructions"
   ]
  },
  {
   "cell_type": "markdown",
   "metadata": {},
   "source": [
    "### Background Information"
   ]
  },
  {
   "cell_type": "markdown",
   "metadata": {},
   "source": [
    "In a Stroop task, participants are presented with a list of words, with each word displayed in a color of ink. The participant’s task is to say out loud the color of the ink in which the word is printed. The task has two conditions: a congruent words condition, and an incongruent words condition. In the congruent words condition, the words being displayed are color words whose names match the colors in which they are printed: for example RED, BLUE. In the incongruent words condition, the words displayed are color words whose names do not match the colors in which they are printed: for example PURPLE, ORANGE. In each case, we measure the time it takes to name the ink colors in equally-sized lists. Each participant will go through and record a time from each condition."
   ]
  },
  {
   "cell_type": "markdown",
   "metadata": {},
   "source": [
    "### Questions For Investigation"
   ]
  },
  {
   "cell_type": "markdown",
   "metadata": {},
   "source": [
    "As a general note, be sure to keep a record of any resources that you use or refer to in the creation of your project. You will need to report your sources as part of the project submission."
   ]
  },
  {
   "cell_type": "markdown",
   "metadata": {},
   "source": [
    "**Question 1** : What is our independent variable? What is our dependent variable?"
   ]
  },
  {
   "cell_type": "markdown",
   "metadata": {},
   "source": [
    "*Answer* : Independent Variable: Whether the words are in congruence condition or not.\n",
    "\n",
    "Dependent Variable : Time taken by the user to name the ink colours."
   ]
  },
  {
   "cell_type": "markdown",
   "metadata": {},
   "source": [
    "**Question 2** : 2. What is an appropriate set of hypotheses for this task? What kind of statistical test do you expect to perform? Justify your choices."
   ]
  },
  {
   "cell_type": "markdown",
   "metadata": {},
   "source": [
    "*Answer* : \n",
    "\n",
    "* Auxiliary variables :\n",
    "\n",
    "    1. x1 : Time taken for users to complete task under congruence condition.\n",
    "    2. x2 : Time taken for users to complete task under incongruence condition.\n",
    "    \n",
    "\n",
    "* Hyphotheses :\n",
    " 1. Difference of time taken to complete under congruence and incongruence condition is zero.\n",
    " 2. Difference of time taken to complete under congruence and incongruence condition is non-zero.\n",
    "\n",
    "\n",
    "\n",
    "Additionally the statistical tests expected to be performed are : \n",
    "\n",
    "A paired t-test is very desirable for such dataset as because:\n",
    "* Datasets are independent of each other.\n",
    "* Data is normally distributed.\n",
    "* Our aim is to test the hypotheses.\n",
    "* Standard deviation of the population is not known.\n",
    "\n"
   ]
  },
  {
   "cell_type": "markdown",
   "metadata": {},
   "source": [
    "Now it’s your chance to try out the Stroop task for yourself. Go to this [link](https://www.google.com/url?q=https://faculty.washington.edu/chudler/java/ready.html&sa=D&ust=1521872046887000&usg=AFQjCNHSb8YH309ZJWkKjMITRa6f6dUl3A), which has a Java-based applet for performing the Stroop task. Record the times that you received on the task (you do not need to submit your times to the site.) Now, download [this dataset](https://www.google.com/url?q=https://drive.google.com/file/d/0B9Yf01UaIbUgQXpYb2NhZ29yX1U/view?usp%3Dsharing&sa=D&ust=1521872046888000&usg=AFQjCNHQjFx8U-k0GdceTRKPrP2elsl-lA) which contains results from a number of participants in the task. Each row of the dataset contains the performance for one participant, with the first number their results on the congruent task and the second number their performance on the incongruent task."
   ]
  },
  {
   "cell_type": "markdown",
   "metadata": {},
   "source": [
    "**Question 3**:  Report some descriptive statistics regarding this dataset. Include at least one measure of central tendency and at least one measure of variability."
   ]
  },
  {
   "cell_type": "markdown",
   "metadata": {},
   "source": [
    "*Answer* :"
   ]
  },
  {
   "cell_type": "code",
   "execution_count": 6,
   "metadata": {},
   "outputs": [],
   "source": [
    "# Used pandas and numpy library for obtaining mean, median, standard deviation for the given dataset.\n",
    "import pandas as pand\n",
    "import numpy as np\n",
    "\n",
    "my_reader = pand.read_csv('stroopdata.csv')\n"
   ]
  },
  {
   "cell_type": "code",
   "execution_count": 10,
   "metadata": {},
   "outputs": [
    {
     "name": "stdout",
     "output_type": "stream",
     "text": [
      "For Congruent data: \n",
      "\n",
      "Value of mean: 14.051124999999999\n",
      "\n",
      "Value of median: 14.3565\n",
      "\n",
      "Value of standard deviation: 3.5593579576451955\n",
      "\n"
     ]
    }
   ],
   "source": [
    "#Printing measures of central tendency for Congruent data\n",
    "print(\"For Congruent data: \\n\")\n",
    "mean = np.mean(my_reader['Congruent'])\n",
    "median = np.median(my_reader['Congruent'])\n",
    "std_dev = np.std(my_reader['Congruent'],ddof=1) # Degrees of freedom set as 1\n",
    "print(\"Value of mean: {}\\n\".format(mean))\n",
    "print(\"Value of median: {}\\n\".format(median))\n",
    "print(\"Value of standard deviation: {}\\n\".format(std_dev))"
   ]
  },
  {
   "cell_type": "code",
   "execution_count": 11,
   "metadata": {},
   "outputs": [
    {
     "name": "stdout",
     "output_type": "stream",
     "text": [
      "For Incongruent data: \n",
      "\n",
      "Value of mean: 22.015916666666666\n",
      "\n",
      "Value of median: 21.0175\n",
      "\n",
      "Value of standard deviation: 4.797057122469138\n",
      "\n"
     ]
    }
   ],
   "source": [
    "#Printing measures of central tendency for incongruent data\n",
    "print(\"For Incongruent data: \\n\")\n",
    "mean = np.mean(my_reader['Incongruent'])\n",
    "median = np.median(my_reader['Incongruent'])\n",
    "std_dev = np.std(my_reader['Incongruent'],ddof=1) # Degrees of freedom set as 1\n",
    "print(\"Value of mean: {}\\n\".format(mean))\n",
    "print(\"Value of median: {}\\n\".format(median))\n",
    "print(\"Value of standard deviation: {}\\n\".format(std_dev))"
   ]
  },
  {
   "cell_type": "markdown",
   "metadata": {},
   "source": [
    "**Question 4**: Provide one or two visualizations that show the distribution of the sample data. Write one or two sentences noting what you observe about the plot or plots."
   ]
  },
  {
   "cell_type": "markdown",
   "metadata": {},
   "source": [
    "*Answer* :"
   ]
  },
  {
   "cell_type": "code",
   "execution_count": 12,
   "metadata": {},
   "outputs": [],
   "source": [
    "import matplotlib.pyplot as plt"
   ]
  },
  {
   "cell_type": "code",
   "execution_count": 28,
   "metadata": {},
   "outputs": [
    {
     "data": {
      "image/png": "[encoded data removed]",
      "text/plain": [
       "<Figure size 1080x720 with 1 Axes>"
      ]
     },
     "metadata": {},
     "output_type": "display_data"
    }
   ],
   "source": [
    "# Frequency distribution for data in congruence condition\n",
    "plt.figure(figsize=(15,10))\n",
    "plt.hist(my_reader['Congruent'],range=(0,35))\n",
    "plt.title('Distribution of time taken by users to answer in congruent condition')\n",
    "plt.xlabel('Time taken(in seconds) --> ')\n",
    "plt.ylabel('Frequency -->')\n",
    "plt.show()"
   ]
  },
  {
   "cell_type": "code",
   "execution_count": 27,
   "metadata": {},
   "outputs": [
    {
     "data": {
      "image/png": "[encoded data removed]",
      "text/plain": [
       "<Figure size 1080x720 with 1 Axes>"
      ]
     },
     "metadata": {},
     "output_type": "display_data"
    }
   ],
   "source": [
    "# Frequency distribution for data not in congruence condition\n",
    "plt.figure(figsize=(15,10))\n",
    "plt.hist(my_reader['Incongruent'],range=(0,35))\n",
    "plt.title('Distribution of time taken by users to answer in incongruent condition')\n",
    "plt.xlabel('Time taken(in seconds) --> ')\n",
    "plt.ylabel('Frequency -->')\n",
    "plt.show()"
   ]
  },
  {
   "cell_type": "markdown",
   "metadata": {},
   "source": [
    "**Observations from the visualizations**\n",
    "\n",
    "*From the above visualizations it is evident that the average time taken by users to answer in incongruent condition is more than that in case of congruent condition. Moreover in incongruent condition some observations are unusually high which is not present otherwise.*"
   ]
  },
  {
   "cell_type": "markdown",
   "metadata": {},
   "source": [
    "**Question 5**: Now, perform the statistical test and report your results. What is your confidence level and your critical statistic value? Do you reject the null hypothesis or fail to reject it? Come to a conclusion in terms of the experiment task. Did the results match up with your expectations?"
   ]
  },
  {
   "cell_type": "markdown",
   "metadata": {},
   "source": [
    "*Answer*:\n",
    "\n",
    "As mentioned earlier a paired t-test is very suitable for this dataset to conclude whether or not we will \"reject the null hypotheses\".\n",
    "*Assuming it a 2-tailed test*\n",
    "The specifications for the given dataset are:\n",
    "* Number of observations(N) : 24\n",
    "* Degrees of freedom(N-1) : 23\n",
    "* Mean for congruent observations(x1) : 14.051\n",
    "* Mean for inconguent observations(x2) : 22.016\n",
    "* Standard Deviation(s) : S=4.865\n",
    "* Sigma diff = s/sqrt(N) = 0.9930\n",
    "* Point of estimate(x1-x2)(here Dbar) : -7.965\n",
    "* From standard table : for df=23(24-1) and p=0.1 (2-tailed test) critical t-value: +1.714 and -1.714.\n",
    "\n",
    "The required formula for calculating t-statistical is:\n"
   ]
  },
  {
   "cell_type": "markdown",
   "metadata": {},
   "source": [
    "![Equation Image](equation23.gif \"Required Formula\")"
   ]
  },
  {
   "cell_type": "markdown",
   "metadata": {},
   "source": [
    "Hence t-statistical = -8.0206\n",
    "\n",
    "**Now as t-statistical < t-critical , accordingly we reject the null hyphotheses.**\n",
    "\n",
    "As the hyphotheses is rejected, it is sure that the time taken by the population for both congruent and incongruent conditions are significantly different from the sample under consideration. The results indeed matched my expectations.\n"
   ]
  },
  {
   "cell_type": "markdown",
   "metadata": {},
   "source": [
    "**Question 6**: What do you think is responsible for the effects observed? Can you think of an alternative or similar task that would result in a similar effect? Some research about the problem will be helpful for thinking about these two questions!"
   ]
  },
  {
   "cell_type": "markdown",
   "metadata": {},
   "source": [
    "*Answer*:\n",
    "\n",
    "From intuition ,it can be easily seen that our brain is capable of guessing the ink colour quickly and accurately both only\n",
    "when the data is in a congruence condition. In case it is not, we need to think for an extra moment maybe which causes a    delay in answering. Additionally similar tasks can be seen in many brain games such as those available on brain training applications such as Lumosity etc."
   ]
  },
  {
   "cell_type": "markdown",
   "metadata": {},
   "source": [
    "### References:\n",
    "1. https://docs.python.org/3/library/csv.html?highlight=csv%20reader\n",
    "2. https://docs.scipy.org/doc/numpy-1.13.0/reference/generated/numpy.std.html\n",
    "3. https://matplotlib.org/api/_as_gen/matplotlib.pyplot.hist.html\n",
    "4. https://stackoverflow.com/questions/332289/how-do-you-change-the-size-of-figures-drawn-with-matplotlib\n",
    "5. https://en.wikipedia.org/wiki/Stroop_effect"
   ]
  },
  {
   "cell_type": "markdown",
   "metadata": {},
   "source": [
    "*Created by MonsijBiswal*\n",
    "\n",
    "*Shaped by jupyter*"
   ]
  }
 ],
 "metadata": {
  "kernelspec": {
   "display_name": "Python 3",
   "language": "python",
   "name": "python3"
  },
  "language_info": {
   "codemirror_mode": {
    "name": "ipython",
    "version": 3
   },
   "file_extension": ".py",
   "mimetype": "text/x-python",
   "name": "python",
   "nbconvert_exporter": "python",
   "pygments_lexer": "ipython3",
   "version": "3.6.4"
  }
 },
 "nbformat": 4,
 "nbformat_minor": 2
}
